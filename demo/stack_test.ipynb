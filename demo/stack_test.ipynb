{
 "cells": [
  {
   "cell_type": "code",
   "execution_count": 1,
   "metadata": {
    "collapsed": true
   },
   "outputs": [],
   "source": [
    "import Base: pop!, push!"
   ]
  },
  {
   "cell_type": "code",
   "execution_count": 2,
   "metadata": {
    "collapsed": false
   },
   "outputs": [],
   "source": [
    "type FixedSizeStack{T}\n",
    "    stack::Vector{T}\n",
    "    size::Int64\n",
    "    \n",
    "    function FixedSizeStack{T}(stack::Vector{T}, size::Integer) where T\n",
    "        new{T}(stack, 0)\n",
    "    end\n",
    "end\n",
    "\n",
    "function FixedSizeStack{T}(size::Integer) where T\n",
    "    return FixedSizeStack{T}(Vector{T}(size), 0)\n",
    "end\n",
    "\n",
    "@inbounds function push!(f::FixedSizeStack, x)\n",
    "    f.size = f.size + 1\n",
    "    f.stack[f.size] = x\n",
    "end\n",
    "\n",
    "@inbounds function pop!(f::FixedSizeStack)\n",
    "    x = f.stack[f.size]\n",
    "    f.size = f.size - 1\n",
    "    return x\n",
    "end"
   ]
  },
  {
   "cell_type": "code",
   "execution_count": 3,
   "metadata": {
    "collapsed": false
   },
   "outputs": [
    {
     "data": {
      "text/plain": [
       "stack3 (generic function with 1 method)"
      ]
     },
     "execution_count": 3,
     "metadata": {},
     "output_type": "execute_result"
    }
   ],
   "source": [
    "function stack1(size, repeat)\n",
    "    stack = Array{Int64}(0)\n",
    "    for r in 1:repeat\n",
    "        for i in 1:size\n",
    "            push!(stack, i)\n",
    "        end\n",
    "        for i in 1:size\n",
    "            pop!(stack)\n",
    "        end\n",
    "    end\n",
    "end\n",
    "\n",
    "function stack2(size, repeat)\n",
    "    stack = Array{Int64}(0)\n",
    "    for r in 1:repeat\n",
    "        for i in 1:size\n",
    "            unshift!(stack, i)\n",
    "        end\n",
    "        for i in 1:size\n",
    "            shift!(stack)\n",
    "        end\n",
    "    end\n",
    "end\n",
    "\n",
    "function stack3(size, repeat)\n",
    "    stack = FixedSizeStack{Int64}(size)\n",
    "    for r in 1:repeat\n",
    "        for i in 1:size\n",
    "            push!(stack, i)\n",
    "        end\n",
    "        for i in 1:size\n",
    "            pop!(stack)\n",
    "        end\n",
    "    end\n",
    "end"
   ]
  },
  {
   "cell_type": "code",
   "execution_count": 4,
   "metadata": {
    "collapsed": false,
    "scrolled": true
   },
   "outputs": [
    {
     "name": "stdout",
     "output_type": "stream",
     "text": [
      "  0.029568 seconds (3.46 k allocations: 435.745 KiB)\n",
      "  0.015298 seconds (18 allocations: 256.859 KiB)\n",
      "  0.016532 seconds (18 allocations: 256.859 KiB)\n"
     ]
    }
   ],
   "source": [
    "@time stack1(10000, 100)\n",
    "@time stack1(10000, 100)\n",
    "@time stack1(10000, 100)"
   ]
  },
  {
   "cell_type": "code",
   "execution_count": 5,
   "metadata": {
    "collapsed": false
   },
   "outputs": [
    {
     "name": "stdout",
     "output_type": "stream",
     "text": [
      "  0.043639 seconds (4.33 k allocations: 489.764 KiB)\n",
      "  0.020865 seconds (19 allocations: 256.891 KiB)\n",
      "  0.024052 seconds (19 allocations: 256.891 KiB)\n"
     ]
    }
   ],
   "source": [
    "@time stack2(10000, 100)\n",
    "@time stack2(10000, 100)\n",
    "@time stack2(10000, 100)"
   ]
  },
  {
   "cell_type": "code",
   "execution_count": 6,
   "metadata": {
    "collapsed": false
   },
   "outputs": [
    {
     "name": "stdout",
     "output_type": "stream",
     "text": [
      "  0.028060 seconds (4.98 k allocations: 345.771 KiB)\n",
      "  0.008080 seconds (7 allocations: 78.391 KiB)\n",
      "  0.008486 seconds (7 allocations: 78.391 KiB)\n"
     ]
    }
   ],
   "source": [
    "@time stack3(10000, 100)\n",
    "@time stack3(10000, 100)\n",
    "@time stack3(10000, 100)"
   ]
  }
 ],
 "metadata": {
  "anaconda-cloud": {},
  "kernelspec": {
   "display_name": "Julia 0.7.0-DEV",
   "language": "julia",
   "name": "julia-0.7"
  },
  "language_info": {
   "file_extension": ".jl",
   "mimetype": "application/julia",
   "name": "julia",
   "version": "0.7.0"
  }
 },
 "nbformat": 4,
 "nbformat_minor": 1
}
