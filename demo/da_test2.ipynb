{
 "cells": [
  {
   "cell_type": "code",
   "execution_count": 1,
   "metadata": {
    "collapsed": false
   },
   "outputs": [
    {
     "name": "stderr",
     "output_type": "stream",
     "text": [
      "\u001b[1m\u001b[36mINFO: \u001b[39m\u001b[22m\u001b[36mRecompiling stale cache file /Users/akira/.julia/lib/v0.7/MatchingMarkets.ji for module MatchingMarkets.\n",
      "\u001b[39m"
     ]
    }
   ],
   "source": [
    "using Matching\n",
    "using MatchingMarkets"
   ]
  },
  {
   "cell_type": "code",
   "execution_count": 2,
   "metadata": {
    "collapsed": false
   },
   "outputs": [],
   "source": [
    "function mat2vecs{T<:Integer}(prefs::Matrix{T})\n",
    "    return [prefs[1:findfirst(prefs[:, j], 0)-1, j] for j in 1:size(prefs, 2)]\n",
    "end\n",
    "\n",
    "m_prefs_old, f_prefs_old = random_prefs(1000, 800, allow_unmatched=false)\n",
    "m_prefs, f_prefs = mat2vecs.([m_prefs_old, f_prefs_old]);"
   ]
  },
  {
   "cell_type": "code",
   "execution_count": 3,
   "metadata": {
    "collapsed": false
   },
   "outputs": [],
   "source": [
    "m_size = size(m_prefs, 1)\n",
    "f_size = size(f_prefs, 1)\n",
    "m_caps = ones(Int64, m_size)\n",
    "f_caps = ones(Int64, f_size)\n",
    "m_side = Preferences(m_size, m_prefs, m_caps)\n",
    "f_side = Preferences(f_size, f_prefs, f_caps)\n",
    "market = TwoSidedMatchingMarket(m_side, f_side);"
   ]
  },
  {
   "cell_type": "code",
   "execution_count": 4,
   "metadata": {
    "collapsed": false
   },
   "outputs": [
    {
     "name": "stdout",
     "output_type": "stream",
     "text": [
      "  0.459840 seconds (109.15 k allocations: 11.893 MiB, 15.85% gc time)\n",
      "  0.043529 seconds (2.42 k allocations: 6.278 MiB)\n",
      "  0.046132 seconds (2.42 k allocations: 6.278 MiB, 12.03% gc time)\n"
     ]
    }
   ],
   "source": [
    "@time deferred_acceptance(m_prefs_old, f_prefs_old)\n",
    "@time deferred_acceptance(m_prefs_old, f_prefs_old)\n",
    "@time deferred_acceptance(m_prefs_old, f_prefs_old)\n",
    "a1, b1 = deferred_acceptance(m_prefs_old, f_prefs_old);\n",
    "#println(b1)"
   ]
  },
  {
   "cell_type": "code",
   "execution_count": 5,
   "metadata": {
    "collapsed": false
   },
   "outputs": [
    {
     "name": "stdout",
     "output_type": "stream",
     "text": [
      "  0.299898 seconds (934.41 k allocations: 23.815 MiB, 1.55% gc time)\n",
      "  0.165844 seconds (848.25 k allocations: 19.076 MiB, 2.03% gc time)\n",
      "  "
     ]
    }
   ],
   "source": [
    "@time deferred_acceptance2(market)\n",
    "@time deferred_acceptance2(market)\n",
    "@time deferred_acceptance2(market)\n",
    "a2, b2 = deferred_acceptance2(market);\n",
    "#println(b2)"
   ]
  },
  {
   "cell_type": "code",
   "execution_count": 6,
   "metadata": {
    "collapsed": false
   },
   "outputs": [
    {
     "data": {
      "text/plain": [
       "true"
      ]
     },
     "execution_count": 6,
     "metadata": {},
     "output_type": "execute_result"
    }
   ],
   "source": [
    "b1 == b2"
   ]
  },
  {
   "cell_type": "code",
   "execution_count": null,
   "metadata": {
    "collapsed": true
   },
   "outputs": [],
   "source": []
  }
 ],
 "metadata": {
  "anaconda-cloud": {},
  "kernelspec": {
   "display_name": "Julia 0.7.0-DEV",
   "language": "julia",
   "name": "julia-0.7"
  },
  "language_info": {
   "file_extension": ".jl",
   "mimetype": "application/julia",
   "name": "julia",
   "version": "0.7.0"
  }
 },
 "nbformat": 4,
 "nbformat_minor": 1
}
