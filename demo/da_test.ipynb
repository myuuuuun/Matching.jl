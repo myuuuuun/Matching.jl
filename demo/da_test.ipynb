{
 "cells": [
  {
   "cell_type": "code",
   "execution_count": 1,
   "metadata": {
    "collapsed": false
   },
   "outputs": [
    {
     "data": {
      "text/plain": [
       "get_next! (generic function with 1 method)"
      ]
     },
     "execution_count": 1,
     "metadata": {},
     "output_type": "execute_result"
    }
   ],
   "source": [
    "include(\"../src/tools.jl\")"
   ]
  },
  {
   "cell_type": "code",
   "execution_count": 16,
   "metadata": {
    "collapsed": false
   },
   "outputs": [
    {
     "name": "stderr",
     "output_type": "stream",
     "text": [
      "\u001b[1m\u001b[33mWARNING: \u001b[39m\u001b[22m\u001b[33mreplacing docs for 'deferred_acceptance :: Union{Tuple{TwoSidedMatchingMarket,Any}, Tuple{TwoSidedMatchingMarket}}' in module 'Main'.\u001b[39m\n"
     ]
    },
    {
     "data": {
      "text/plain": [
       "deferred_acceptance"
      ]
     },
     "execution_count": 16,
     "metadata": {},
     "output_type": "execute_result"
    }
   ],
   "source": [
    "type Preferences\n",
    "    size::Int\n",
    "    prefs::AbstractArray\n",
    "    caps::AbstractArray\n",
    "end\n",
    "\n",
    "type TwoSidedMatchingMarket\n",
    "    side_A::Preferences\n",
    "    side_B::Preferences\n",
    "end\n",
    "\n",
    "\n",
    "function make_ranking_from_prefs(proposer_size::Int, \n",
    "    non_proposer_size::Int, \n",
    "    non_proposer_prefs::AbstractArray)\n",
    "    \n",
    "    rankings = zeros(Int64, non_proposer_size, proposer_size)\n",
    "    \n",
    "    for non_prop in 1:non_proposer_size\n",
    "        for (ranking, prop) in enumerate(non_proposer_prefs[non_prop])\n",
    "            rankings[non_prop, prop] = ranking\n",
    "        end\n",
    "    end\n",
    "    \n",
    "    return rankings\n",
    "end\n",
    "\n",
    "\"\"\"\n",
    "    deferred_acceptance(market[, reversed=false])\n",
    "\n",
    "Carry out Deferred Acceptance algorithm(Gale-Shapley algorithm)\n",
    "\n",
    "By default, side A offers. If `reversed==true`, then side B offers\n",
    "\n",
    "For anyone with more capacity than one, I assume (implicitly) they have a\n",
    "responsive preference.\n",
    "\"\"\"\n",
    "function deferred_acceptance(market::TwoSidedMatchingMarket, reversed=false)\n",
    "    if reversed\n",
    "        proposer_side = market.side_B\n",
    "        non_proposer_side = market.side_A\n",
    "    else\n",
    "        proposer_side = market.side_A\n",
    "        non_proposer_side = market.side_B\n",
    "    end\n",
    "    \n",
    "    # ranking of proposers for each non-proposer\n",
    "    rankings = make_ranking_from_prefs(proposer_side.size, non_proposer_side.size, non_proposer_side.prefs)\n",
    "    \n",
    "    # result matching container\n",
    "    proposer_matched = Vector{Int64}(proposer_side.size)\n",
    "    non_proposer_matched = zeros(Int64, non_proposer_side.size)\n",
    "    \n",
    "    # lowest ranking of non-proposer that each proposer has already proposed to\n",
    "    proposed_counter = Counter([size(p, 1) for p in proposer_side.prefs])\n",
    "\n",
    "    # stack of proposers who can still propose to someone\n",
    "    proposer_stack = FixedSizeStack{Int64}(collect(proposer_side.size:-1:1), proposer_side.size)\n",
    "    \n",
    "    # DA loop\n",
    "    while !isempty(proposer_stack)\n",
    "        proposer = pop!(proposer_stack)\n",
    "        \n",
    "        while true\n",
    "            next_ranking = get_next!(proposed_counter, proposer)\n",
    "            if next_ranking == 0\n",
    "                break\n",
    "            end\n",
    "                \n",
    "            proposing_next = proposer_side.prefs[proposer][next_ranking]\n",
    "            if rankings[proposing_next, proposer] > 0\n",
    "                matched = non_proposer_matched[proposing_next]\n",
    "\n",
    "                if matched == 0\n",
    "                    proposer_matched[proposer] = proposing_next\n",
    "                    non_proposer_matched[proposing_next] = proposer\n",
    "                    break\n",
    "                \n",
    "                elseif rankings[proposing_next, proposer] < rankings[proposing_next, matched]\n",
    "                    proposer_matched[proposer] = proposing_next\n",
    "                    proposer_matched[matched] = 0\n",
    "                    non_proposer_matched[proposing_next] = proposer\n",
    "                    push!(proposer_stack, matched)\n",
    "                    break\n",
    "                end\n",
    "            end\n",
    "        end\n",
    "    end\n",
    "    \n",
    "    return proposer_matched, non_proposer_matched\n",
    "end"
   ]
  },
  {
   "cell_type": "code",
   "execution_count": 15,
   "metadata": {
    "collapsed": false
   },
   "outputs": [
    {
     "name": "stdout",
     "output_type": "stream",
     "text": [
      "[0 1 2 0; 4 1 2 3; 2 3 0 1]\n",
      "130\n",
      "231\n",
      "220\n",
      "310\n",
      "431\n"
     ]
    },
    {
     "data": {
      "text/plain": [
       "([0, 2, 1, 3], [3, 2, 4])"
      ]
     },
     "execution_count": 15,
     "metadata": {},
     "output_type": "execute_result"
    }
   ],
   "source": [
    "m_size = 4\n",
    "f_size = 3\n",
    "m_prefs = [[3], [3, 2, 1], [1, 3, 2], [3, 1]]\n",
    "f_prefs = [[2, 3], [2, 3, 4, 1], [4, 1, 2]]\n",
    "m_caps = ones(Int64, m_size)\n",
    "f_caps = ones(Int64, m_size)\n",
    "\n",
    "m_side = Preferences(m_size, m_prefs, m_caps)\n",
    "f_side = Preferences(f_size, f_prefs, f_caps)\n",
    "market = TwoSidedMatchingMarket(m_side, f_side)\n",
    "\n",
    "deferred_acceptance(market)"
   ]
  }
 ],
 "metadata": {
  "anaconda-cloud": {},
  "kernelspec": {
   "display_name": "Julia 0.7.0-DEV",
   "language": "julia",
   "name": "julia-0.7"
  },
  "language_info": {
   "file_extension": ".jl",
   "mimetype": "application/julia",
   "name": "julia",
   "version": "0.7.0"
  }
 },
 "nbformat": 4,
 "nbformat_minor": 1
}
