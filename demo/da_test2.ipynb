{
 "cells": [
  {
   "cell_type": "code",
   "execution_count": 1,
   "metadata": {
    "collapsed": false
   },
   "outputs": [
    {
     "name": "stderr",
     "output_type": "stream",
     "text": [
      "\u001b[1m\u001b[36mINFO: \u001b[39m\u001b[22m\u001b[36mRecompiling stale cache file /Users/akira/.julia/lib/v0.7/MatchingMarkets.ji for module MatchingMarkets.\n",
      "\u001b[39m"
     ]
    }
   ],
   "source": [
    "using Matching\n",
    "using MatchingMarkets\n",
    "using DataStructures"
   ]
  },
  {
   "cell_type": "code",
   "execution_count": 2,
   "metadata": {
    "collapsed": false
   },
   "outputs": [],
   "source": [
    "function mat2vecs{T<:Integer}(prefs::Matrix{T})\n",
    "    return [prefs[1:findfirst(prefs[:, j], 0)-1, j] for j in 1:size(prefs, 2)]\n",
    "end\n",
    "\n",
    "m_prefs_old, f_prefs_old = random_prefs(1000, 800, allow_unmatched=false)\n",
    "m_prefs, f_prefs = mat2vecs.([m_prefs_old, f_prefs_old]);"
   ]
  },
  {
   "cell_type": "code",
   "execution_count": 3,
   "metadata": {
    "collapsed": false
   },
   "outputs": [],
   "source": [
    "m_size = size(m_prefs, 1)\n",
    "f_size = size(f_prefs, 1)\n",
    "m_caps = ones(Int64, m_size)\n",
    "f_caps = ones(Int64, f_size)\n",
    "m_side = Preferences(m_size, m_prefs, m_caps)\n",
    "f_side = Preferences(f_size, f_prefs, f_caps)\n",
    "market = TwoSidedMatchingMarket(m_side, f_side);"
   ]
  },
  {
   "cell_type": "code",
   "execution_count": 4,
   "metadata": {
    "collapsed": false
   },
   "outputs": [
    {
     "name": "stdout",
     "output_type": "stream",
     "text": [
      "  0.387468 seconds (109.15 k allocations: 11.893 MiB, 15.32% gc time)\n",
      "  0.043984 seconds (2.42 k allocations: 6.278 MiB)\n",
      "  0.052714 seconds (2.42 k allocations: 6.278 MiB, 16.56% gc time)\n"
     ]
    }
   ],
   "source": [
    "@time deferred_acceptance(m_prefs_old, f_prefs_old)\n",
    "@time deferred_acceptance(m_prefs_old, f_prefs_old)\n",
    "@time deferred_acceptance(m_prefs_old, f_prefs_old)\n",
    "a1, b1 = deferred_acceptance(m_prefs_old, f_prefs_old);\n",
    "#println(b1)"
   ]
  },
  {
   "cell_type": "code",
   "execution_count": 5,
   "metadata": {
    "collapsed": false
   },
   "outputs": [
    {
     "name": "stdout",
     "output_type": "stream",
     "text": [
      "  0.342312 seconds (743.33 k allocations: 20.897 MiB, 1.33% gc time)\n",
      "  0.160031 seconds (657.33 k allocations: 16.163 MiB, 2.36% gc time)\n"
     ]
    }
   ],
   "source": [
    "@time deferred_acceptance2(market)\n",
    "@time deferred_acceptance2(market)\n",
    "@time deferred_acceptance2(market)\n",
    "a2, b2 = deferred_acceptance2(market);\n",
    "#println(b2)"
   ]
  },
  {
   "cell_type": "code",
   "execution_count": 6,
   "metadata": {
    "collapsed": false
   },
   "outputs": [
    {
     "name": "stdout",
     "output_type": "stream",
     "text": [
      "  0.367092 seconds (1.53 M allocations: 31.386 MiB, 0.83% gc time)\n",
      "  0.271107 seconds (1.48 M allocations: 28.889 MiB, 1.64% gc time)\n"
     ]
    }
   ],
   "source": [
    "@time deferred_acceptance3(market)\n",
    "@time deferred_acceptance3(market)\n",
    "@time deferred_acceptance3(market)\n",
    "a3, b3 = deferred_acceptance3(market);\n",
    "#println(b3)"
   ]
  },
  {
   "cell_type": "code",
   "execution_count": 7,
   "metadata": {
    "collapsed": false
   },
   "outputs": [
    {
     "data": {
      "text/plain": [
       "true"
      ]
     },
     "execution_count": 7,
     "metadata": {},
     "output_type": "execute_result"
    }
   ],
   "source": [
    "b1 == b2"
   ]
  },
  {
   "cell_type": "code",
   "execution_count": 8,
   "metadata": {
    "collapsed": false
   },
   "outputs": [
    {
     "data": {
      "text/plain": [
       "false"
      ]
     },
     "execution_count": 8,
     "metadata": {},
     "output_type": "execute_result"
    }
   ],
   "source": [
    "b1 == b3"
   ]
  },
  {
   "cell_type": "code",
   "execution_count": 9,
   "metadata": {
    "collapsed": false
   },
   "outputs": [
    {
     "name": "stdout",
     "output_type": "stream",
     "text": [
      "  0.051295 seconds (2.42 k allocations: 6.278 MiB, 8.42% gc time)\n",
      "elapsed time (ns): 51294869\n",
      "gc time (ns):      4317904\n",
      "bytes allocated:   6582640\n",
      "pool allocs:       2412\n",
      "non-pool GC allocs:10\n",
      "malloc() calls:    1\n",
      "GC pauses:         1\n"
     ]
    },
    {
     "data": {
      "text/plain": [
       "([81, 400, 334, 0, 497, 170, 211, 600, 0, 108  …  35, 601, 550, 671, 0, 0, 776, 709, 259, 388], [280, 910, 851, 691, 637, 222, 682, 302, 419, 72  …  605, 537, 232, 867, 75, 727, 169, 672, 227, 860])"
      ]
     },
     "execution_count": 9,
     "metadata": {},
     "output_type": "execute_result"
    }
   ],
   "source": [
    "@timev deferred_acceptance(m_prefs_old, f_prefs_old)"
   ]
  },
  {
   "cell_type": "code",
   "execution_count": 10,
   "metadata": {
    "collapsed": false
   },
   "outputs": [
    {
     "name": "stdout",
     "output_type": "stream",
     "text": [
      "  0.157091 seconds (657.33 k allocations: 16.163 MiB, 4.04% gc time)\n",
      "elapsed time (ns): 157090523\n",
      "gc time (ns):      6338858\n",
      "bytes allocated:   16948272\n",
      "pool allocs:       657323\n",
      "non-pool GC allocs:4\n",
      "malloc() calls:    1\n",
      "GC pauses:         1\n"
     ]
    },
    {
     "data": {
      "text/plain": [
       "([81, 400, 334, 0, 497, 170, 211, 600, 0, 108  …  35, 601, 550, 671, 0, 0, 776, 709, 259, 388], [280, 910, 851, 691, 637, 222, 682, 302, 419, 72  …  605, 537, 232, 867, 75, 727, 169, 672, 227, 860])"
      ]
     },
     "execution_count": 10,
     "metadata": {},
     "output_type": "execute_result"
    }
   ],
   "source": [
    "@timev deferred_acceptance2(market)"
   ]
  },
  {
   "cell_type": "code",
   "execution_count": 11,
   "metadata": {
    "collapsed": false
   },
   "outputs": [
    {
     "name": "stdout",
     "output_type": "stream",
     "text": [
      "36 ./task.jl:335; (::IJulia.##9#12)()\n",
      " 36 ...IJulia/src/eventloop.jl:8; eventloop(::ZMQ.Socket)\n",
      "  36 ...rc/execute_request.jl:156; execute_request(::ZMQ.Socket, ::I...\n",
      "   36 ./loading.jl:498; include_string(::String, ::String)\n",
      "    35 ./<missing>:?; anonymous\n",
      "     35 ./profile.jl:23; macro expansion\n",
      "      35 ...ferred_acceptance.jl:189; deferred_acceptance(::Array{In...\n",
      "       2  ...erred_acceptance.jl:66; deferred_acceptance(::Array{In...\n",
      "        2 ...erred_acceptance.jl:254; _prefs2ranks(::Array{Int64,2})\n",
      "       1  ...erred_acceptance.jl:105; deferred_acceptance(::Array{In...\n",
      "       2  ...erred_acceptance.jl:107; deferred_acceptance(::Array{In...\n",
      "       5  ...erred_acceptance.jl:108; deferred_acceptance(::Array{In...\n",
      "       11 ...erred_acceptance.jl:113; deferred_acceptance(::Array{In...\n",
      "       9  ...erred_acceptance.jl:116; deferred_acceptance(::Array{In...\n",
      "       1  ...erred_acceptance.jl:129; deferred_acceptance(::Array{In...\n",
      "        1 ...Matching/src/util.jl:31; least!(::Matching.Util.BinHeap...\n",
      "         1 ./subarray.jl:201; getindex\n",
      "       4  ...erred_acceptance.jl:136; deferred_acceptance(::Array{In...\n",
      "    1  ./inference.jl:2587; typeinf_ext(::Core.MethodInstan...\n",
      "     1 ./inference.jl:2548; typeinf_code(::Core.MethodInsta...\n",
      "      1 ./inference.jl:2478; typeinf_frame(::Core.MethodIns...\n",
      "       1 ./inference.jl:2625; typeinf_loop(::Core.Inference....\n",
      "        1 ./inference.jl:2762; typeinf_frame(::Core.Inferenc...\n",
      "         1 ./inference.jl:1919; abstract_eval(::Any, ::Array{...\n",
      "          1 ./inference.jl:1870; abstract_eval_call(::Expr, :...\n",
      "           1 ./abstractarray.jl:565; copy!(::Array{Any,1}, ::Core...\n",
      "            1 ./inference.jl:1919; abstract_eval(::Any, ::Arra...\n",
      "             1 ./inference.jl:1896; abstract_eval_call(::Expr,...\n",
      "              1 ./inference.jl:1866; abstract_call(::Any, ::Arr...\n",
      "               1 ./inference.jl:1386; abstract_call_gf_by_type(...\n",
      "                1 ./inference.jl:2501; typeinf_edge(::Method, :...\n",
      "                 1 ./inference.jl:2478; typeinf_frame(::Core.Met...\n",
      "                  1 ./inference.jl:2608; typeinf_loop(::Core.Inf...\n",
      "                   1 ./inference.jl:2709; typeinf_frame(::Core.In...\n",
      "                    1 ./inference.jl:2045; abstract_interpret(::A...\n",
      "                     1 ./inference.jl:1919; abstract_eval(::Any, ...\n",
      "                      1 ./inference.jl:1896; abstract_eval_call(::...\n",
      "                       1 ./inference.jl:1866; abstract_call(::Any,...\n",
      "                        1 ./inference.jl:1386; abstract_call_gf_by_...\n",
      "                         1 ./inference.jl:2501; typeinf_edge(::Meth...\n",
      "                          1 ./inference.jl:2468; typeinf_frame(::Co...\n",
      "                           1 ./inference.jl:237; Core.Inference.Inf...\n",
      "                            1 ./inference.jl:2278; find_ssavalue_use...\n",
      "                             1 ./inference.jl:2304; find_ssavalue_use...\n",
      "                              1 ...ference.jl:2304; find_ssavalue_us...\n",
      "                               1 ./inference.jl:0; find_ssavalue_use...\n",
      "1  ...7/Matching/src/util.jl:0; least!(::Matching.Util.BinHeap{Sub...\n"
     ]
    }
   ],
   "source": [
    "Profile.clear()\n",
    "@profile deferred_acceptance(m_prefs_old, f_prefs_old)\n",
    "Profile.print()"
   ]
  },
  {
   "cell_type": "code",
   "execution_count": 12,
   "metadata": {
    "collapsed": false
   },
   "outputs": [
    {
     "name": "stdout",
     "output_type": "stream",
     "text": [
      "121 ./task.jl:335; (::IJulia.##9#12)()\n",
      " 121 ...Julia/src/eventloop.jl:8; eventloop(::ZMQ.Socket)\n",
      "  121 ...rc/execute_request.jl:156; execute_request(::ZMQ.Socket, ::...\n",
      "   121 ./loading.jl:498; include_string(::String, ::String)\n",
      "    121 ./<missing>:?; anonymous\n",
      "     121 ./profile.jl:23; macro expansion\n",
      "      121 ...wo_sided_matching.jl:37; deferred_acceptance2(::Matchin...\n",
      "       14 ...wo_sided_matching.jl:46; deferred_acceptance2(::Matchin...\n",
      "        13 ...o_sided_matching.jl:24; make_ranking_from_prefs(::Int6...\n",
      "         1 ./array.jl:215; fill!(::Array{Int64,2}, ::Int64)\n",
      "        1  ...o_sided_matching.jl:28; make_ranking_from_prefs(::Int6...\n",
      "       3  ...wo_sided_matching.jl:53; deferred_acceptance2(::Matchin...\n",
      "        1 ./array.jl:430; collect(::Base.Generator{Array...\n",
      "         1 ./array.jl:462; collect_to!(::Array{Int64,1},...\n",
      "       8  ...wo_sided_matching.jl:60; deferred_acceptance2(::Matchin...\n",
      "        2 ...kets.jl/src/tools.jl:65; get_next!(::MatchingMarkets.Co...\n",
      "        2 ...kets.jl/src/tools.jl:67; get_next!(::MatchingMarkets.Co...\n",
      "       23 ...wo_sided_matching.jl:70; deferred_acceptance2(::Matchin...\n",
      "        6 ./array.jl:508; getindex(::Array{Int64,1}, ::I...\n",
      "       28 ...wo_sided_matching.jl:71; deferred_acceptance2(::Matchin...\n",
      "        21 ./array.jl:509; getindex(::Array{Int64,2}, ::...\n",
      "       5  ...wo_sided_matching.jl:72; deferred_acceptance2(::Matchin...\n",
      "       7  ...wo_sided_matching.jl:73; deferred_acceptance2(::Matchin...\n",
      "       12 ...wo_sided_matching.jl:75; deferred_acceptance2(::Matchin...\n",
      "        1 ./promotion.jl:0; ==(::Int64, ::Int64)\n",
      "       19 ...wo_sided_matching.jl:81; deferred_acceptance2(::Matchin...\n",
      "        6 ./array.jl:509; getindex(::Array{Int64,2}, ::I...\n",
      "1   ...arkets.jl/src/tools.jl:0; get_next!(::MatchingMarkets.Count...\n"
     ]
    }
   ],
   "source": [
    "Profile.clear()\n",
    "@profile deferred_acceptance2(market)\n",
    "Profile.print()"
   ]
  }
 ],
 "metadata": {
  "anaconda-cloud": {},
  "kernelspec": {
   "display_name": "Julia 0.7.0-DEV",
   "language": "julia",
   "name": "julia-0.7"
  },
  "language_info": {
   "file_extension": ".jl",
   "mimetype": "application/julia",
   "name": "julia",
   "version": "0.7.0"
  }
 },
 "nbformat": 4,
 "nbformat_minor": 1
}
