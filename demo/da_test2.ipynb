{
 "cells": [
  {
   "cell_type": "code",
   "execution_count": 1,
   "metadata": {
    "collapsed": false
   },
   "outputs": [
    {
     "name": "stderr",
     "output_type": "stream",
     "text": [
      "\u001b[1m\u001b[36mINFO: \u001b[39m\u001b[22m\u001b[36mRecompiling stale cache file /Users/akira/.julia/lib/v0.7/MatchingMarkets.ji for module MatchingMarkets.\n",
      "\u001b[39m"
     ]
    }
   ],
   "source": [
    "using Matching\n",
    "using MatchingMarkets"
   ]
  },
  {
   "cell_type": "code",
   "execution_count": 2,
   "metadata": {
    "collapsed": false
   },
   "outputs": [],
   "source": [
    "function mat2vecs{T<:Integer}(prefs::Matrix{T})\n",
    "    return [prefs[1:findfirst(prefs[:, j], 0)-1, j] for j in 1:size(prefs, 2)]\n",
    "end\n",
    "\n",
    "m_prefs_old, f_prefs_old = random_prefs(1000, 800, allow_unmatched=false)\n",
    "m_prefs, f_prefs = mat2vecs.([m_prefs_old, f_prefs_old]);"
   ]
  },
  {
   "cell_type": "code",
   "execution_count": 3,
   "metadata": {
    "collapsed": false
   },
   "outputs": [],
   "source": [
    "m_size = size(m_prefs, 1)\n",
    "f_size = size(f_prefs, 1)\n",
    "m_caps = ones(Int64, m_size)\n",
    "f_caps = ones(Int64, f_size)\n",
    "m_side = Preferences(m_size, m_prefs, m_caps)\n",
    "f_side = Preferences(f_size, f_prefs, f_caps)\n",
    "market = TwoSidedMatchingMarket(m_side, f_side);"
   ]
  },
  {
   "cell_type": "code",
   "execution_count": 14,
   "metadata": {
    "collapsed": false
   },
   "outputs": [
    {
     "name": "stdout",
     "output_type": "stream",
     "text": [
      "  0.040299 seconds (2.42 k allocations: 6.278 MiB)\n",
      "  0.046923 seconds (2.42 k allocations: 6.278 MiB, 5.27% gc time)\n",
      "  0.042755 seconds (2.42 k allocations: 6.278 MiB)\n"
     ]
    }
   ],
   "source": [
    "@time deferred_acceptance(m_prefs_old, f_prefs_old)\n",
    "@time deferred_acceptance(m_prefs_old, f_prefs_old)\n",
    "@time deferred_acceptance(m_prefs_old, f_prefs_old)\n",
    "a1, b1 = deferred_acceptance(m_prefs_old, f_prefs_old);\n",
    "#println(b1)"
   ]
  },
  {
   "cell_type": "code",
   "execution_count": 17,
   "metadata": {
    "collapsed": false
   },
   "outputs": [
    {
     "name": "stdout",
     "output_type": "stream",
     "text": [
      "  0.155982 seconds (655.07 k allocations: 16.129 MiB)\n",
      "  0.147475 seconds (655.07 k allocations: 16.129 MiB, 1.51% gc time)\n",
      "  0.151769 seconds (655.07 k allocations: 16.129 MiB, 1.01% gc time)\n"
     ]
    }
   ],
   "source": [
    "@time deferred_acceptance2(market)\n",
    "@time deferred_acceptance2(market)\n",
    "@time deferred_acceptance2(market)\n",
    "a2, b2 = deferred_acceptance2(market);\n",
    "#println(b2)"
   ]
  },
  {
   "cell_type": "code",
   "execution_count": 6,
   "metadata": {
    "collapsed": false
   },
   "outputs": [
    {
     "data": {
      "text/plain": [
       "true"
      ]
     },
     "execution_count": 6,
     "metadata": {},
     "output_type": "execute_result"
    }
   ],
   "source": [
    "a1 == a2"
   ]
  },
  {
   "cell_type": "code",
   "execution_count": 7,
   "metadata": {
    "collapsed": false
   },
   "outputs": [
    {
     "name": "stdout",
     "output_type": "stream",
     "text": [
      "  0.003768 seconds (7 allocations: 6.104 MiB)\n",
      "  0.005914 seconds (6 allocations: 6.104 MiB, 54.05% gc time)\n",
      "  0.002638 seconds (6 allocations: 6.104 MiB)\n"
     ]
    }
   ],
   "source": [
    "@time make_ranking_from_prefs(1000, 800, f_prefs)\n",
    "@time make_ranking_from_prefs(1000, 800, f_prefs)\n",
    "@time make_ranking_from_prefs(1000, 800, f_prefs);"
   ]
  },
  {
   "cell_type": "code",
   "execution_count": 8,
   "metadata": {
    "collapsed": false
   },
   "outputs": [
    {
     "data": {
      "text/plain": [
       "test1 (generic function with 1 method)"
      ]
     },
     "execution_count": 8,
     "metadata": {},
     "output_type": "execute_result"
    }
   ],
   "source": [
    "function test1(times)\n",
    "    proposer_stack = FixedSizeStack{Int64}(collect(1:100), 100)\n",
    "    for i in 1:times\n",
    "        a = pop!(proposer_stack)\n",
    "        push!(proposer_stack, a)\n",
    "    end\n",
    "end"
   ]
  },
  {
   "cell_type": "code",
   "execution_count": 9,
   "metadata": {
    "collapsed": false
   },
   "outputs": [
    {
     "name": "stdout",
     "output_type": "stream",
     "text": [
      "  0.126158 seconds (6.33 k allocations: 344.647 KiB)\n",
      "  0.092410 seconds (7 allocations: 1.094 KiB)\n"
     ]
    }
   ],
   "source": [
    "@time test1(10000000)\n",
    "@time test1(10000000)\n",
    "@time test1(10000000);"
   ]
  },
  {
   "cell_type": "code",
   "execution_count": 10,
   "metadata": {
    "collapsed": false
   },
   "outputs": [
    {
     "data": {
      "text/plain": [
       "test2 (generic function with 1 method)"
      ]
     },
     "execution_count": 10,
     "metadata": {},
     "output_type": "execute_result"
    }
   ],
   "source": [
    "function test2()\n",
    "    s = size(f_prefs, 1)\n",
    "    c = Counter([size(p, 1) for p in f_prefs])\n",
    "    a = 1\n",
    "    for i in 1:s\n",
    "        while a != 0\n",
    "            a = get_next!(c, i)\n",
    "        end\n",
    "    end\n",
    "end\n"
   ]
  },
  {
   "cell_type": "code",
   "execution_count": 11,
   "metadata": {
    "collapsed": false
   },
   "outputs": [
    {
     "name": "stdout",
     "output_type": "stream",
     "text": [
      "  0.061383 seconds (37.21 k allocations: 1.962 MiB)\n",
      "  0.000270 seconds (1.88 k allocations: 54.688 KiB)\n",
      "  0.000251 seconds (1.88 k allocations: 54.688 KiB)\n"
     ]
    }
   ],
   "source": [
    "@time test2()\n",
    "@time test2()\n",
    "@time test2();"
   ]
  },
  {
   "cell_type": "code",
   "execution_count": null,
   "metadata": {
    "collapsed": true
   },
   "outputs": [],
   "source": []
  }
 ],
 "metadata": {
  "anaconda-cloud": {},
  "kernelspec": {
   "display_name": "Julia 0.7.0-DEV",
   "language": "julia",
   "name": "julia-0.7"
  },
  "language_info": {
   "file_extension": ".jl",
   "mimetype": "application/julia",
   "name": "julia",
   "version": "0.7.0"
  }
 },
 "nbformat": 4,
 "nbformat_minor": 1
}
